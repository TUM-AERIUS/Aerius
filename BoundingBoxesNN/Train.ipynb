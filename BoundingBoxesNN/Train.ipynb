{
 "cells": [
  {
   "cell_type": "markdown",
   "metadata": {
    "collapsed": true
   },
   "source": [
    "# Train CNN to predict bounding boxes"
   ]
  },
  {
   "cell_type": "markdown",
   "metadata": {},
   "source": [
    "## Load packages"
   ]
  },
  {
   "cell_type": "code",
   "execution_count": 1,
   "metadata": {},
   "outputs": [],
   "source": [
    "import numpy as np\n",
    "import tensorflow as tf\n",
    "import matplotlib.pyplot as plt\n",
    "import BB_CNN"
   ]
  },
  {
   "cell_type": "markdown",
   "metadata": {},
   "source": [
    "## Load data"
   ]
  },
  {
   "cell_type": "code",
   "execution_count": null,
   "metadata": {
    "collapsed": true
   },
   "outputs": [],
   "source": [
    "dataset_train = tf.data.TFRecordDataset('train_with_negative.record')\n",
    "dataset_train = dataset_train.shuffle(buffer_size=2000)\n",
    "iterator_train = dataset_train.make_initializable_iterator()\n",
    "next_element_train = iterator_train.get_next()\n",
    "\n",
    "dataset_val = tf.data.TFRecordDataset('val_with_negative.record')\n",
    "dataset_val = dataset_val.shuffle(buffer_size=2000)\n",
    "iterator_val = dataset_val.make_initializable_iterator()\n",
    "next_element_val = iterator_val.get_next()"
   ]
  },
  {
   "cell_type": "markdown",
   "metadata": {},
   "source": [
    "## Train CNN"
   ]
  },
  {
   "cell_type": "code",
   "execution_count": null,
   "metadata": {
    "scrolled": true
   },
   "outputs": [
    {
     "name": "stdout",
     "output_type": "stream",
     "text": [
      "The image 1 of the training set could not be loaded.\n",
      "The image 2 of the training set could not be loaded.\n",
      "The image 3 of the training set could not be loaded.\n",
      "The image 4 of the training set could not be loaded.\n",
      "The image 7 of the training set could not be loaded.\n",
      "The image 8 of the training set could not be loaded.\n",
      "The image 9 of the training set could not be loaded.\n",
      "The image 10 of the training set could not be loaded.\n",
      "The image 11 of the training set could not be loaded.\n",
      "The image 13 of the training set could not be loaded.\n",
      "The image 14 of the training set could not be loaded.\n",
      "The image 17 of the training set could not be loaded.\n",
      "The image 18 of the training set could not be loaded.\n",
      "The image 19 of the training set could not be loaded.\n",
      "The image 20 of the training set could not be loaded.\n",
      "The image 21 of the training set could not be loaded.\n",
      "The image 23 of the training set could not be loaded.\n",
      "The image 25 of the training set could not be loaded.\n",
      "The image 26 of the training set could not be loaded.\n",
      "The image 27 of the training set could not be loaded.\n",
      "The image 28 of the training set could not be loaded.\n",
      "The image 30 of the training set could not be loaded.\n",
      "The image 31 of the training set could not be loaded.\n",
      "The image 33 of the training set could not be loaded.\n",
      "The image 34 of the training set could not be loaded.\n",
      "The image 35 of the training set could not be loaded.\n",
      "The image 37 of the training set could not be loaded.\n",
      "The image 40 of the training set could not be loaded.\n",
      "The image 42 of the training set could not be loaded.\n",
      "The image 44 of the training set could not be loaded.\n",
      "The image 46 of the training set could not be loaded.\n",
      "The image 47 of the training set could not be loaded.\n",
      "The image 48 of the training set could not be loaded.\n",
      "The image 49 of the training set could not be loaded.\n",
      "The image 52 of the training set could not be loaded.\n",
      "The image 54 of the training set could not be loaded.\n",
      "The image 55 of the training set could not be loaded.\n",
      "The image 57 of the training set could not be loaded.\n",
      "The image 63 of the training set could not be loaded.\n",
      "The image 64 of the training set could not be loaded.\n",
      "The image 65 of the training set could not be loaded.\n",
      "The image 66 of the training set could not be loaded.\n",
      "The image 68 of the training set could not be loaded.\n",
      "The image 69 of the training set could not be loaded.\n",
      "The image 70 of the training set could not be loaded.\n",
      "The image 73 of the training set could not be loaded.\n",
      "The image 76 of the training set could not be loaded.\n"
     ]
    }
   ],
   "source": [
    "num_iter = 1000\n",
    "\n",
    "feature = {'image/height': tf.FixedLenFeature([], tf.int64),\n",
    "           'image/width': tf.FixedLenFeature([], tf.int64),\n",
    "           'image/filename': tf.FixedLenFeature([], tf.string),\n",
    "           'image/source_id': tf.FixedLenFeature([], tf.string),\n",
    "           'image/key/sha256': tf.FixedLenFeature([], tf.string),\n",
    "           'image/encoded': tf.FixedLenFeature([], tf.string),\n",
    "           'image/format': tf.FixedLenFeature([], tf.string),\n",
    "           'image/object/bbox/xmin': tf.FixedLenFeature([], tf.float32),\n",
    "           'image/object/bbox/xmax': tf.FixedLenFeature([], tf.float32),\n",
    "           'image/object/bbox/ymin': tf.FixedLenFeature([], tf.float32),\n",
    "           'image/object/bbox/ymax': tf.FixedLenFeature([], tf.float32),\n",
    "           'image/object/class/text': tf.FixedLenFeature([], tf.string),\n",
    "           'image/object/class/label': tf.FixedLenFeature([], tf.int64),\n",
    "           'image/object/difficult': tf.FixedLenFeature([], tf.int64),\n",
    "           'image/object/truncated': tf.FixedLenFeature([], tf.int64),\n",
    "           'image/object/view': tf.FixedLenFeature([], tf.string)}\n",
    "\n",
    "config = tf.ConfigProto(device_count = {'GPU': 0})\n",
    "with tf.Session(config=config)  as sess:\n",
    "    bb_net = BB_CNN.BB_CNN(kernel_size = 7 * [3], kernel_stride = 7 * [1], num_filters =  7 * [4],\n",
    "                           pool_size = 7 * [2], pool_stride = 7 * [2], hidden_dim = [100],\n",
    "                           dropout = 0.5, weight_scale = 1)\n",
    "    images = tf.placeholder(tf.float32, [1, 1280, 720, 3])\n",
    "    train_mode = tf.placeholder(tf.bool)\n",
    "    target_prob = tf.placeholder(tf.float32, [1])\n",
    "    target_bb = tf.placeholder(tf.float32, [1, 4])\n",
    "    bb_net.build(images, train_mode)\n",
    "    bb_net.predict()\n",
    "    bb_net.loss(target_prob, target_bb)\n",
    "    train_step = tf.train.AdamOptimizer(1e-4).minimize(bb_net.loss)\n",
    "    sess.run(tf.global_variables_initializer())\n",
    "    sess.run(iterator_train.initializer)\n",
    "    sess.run(iterator_val.initializer)\n",
    "    for i in range(num_iter):\n",
    "        try:\n",
    "            next_example_train = sess.run(next_element_train)\n",
    "            example_parsed = tf.parse_single_example(next_example_train, features=feature)\n",
    "            example_parsed_out = sess.run(example_parsed)\n",
    "            image = sess.run(tf.image.decode_jpeg(example_parsed_out['image/encoded']))\n",
    "            xmin = max(example_parsed_out['image/object/bbox/xmin'], 0)\n",
    "            xmax = min(example_parsed_out['image/object/bbox/xmax'], 1)\n",
    "            ymin = max(example_parsed_out['image/object/bbox/ymin'], 0)\n",
    "            ymax = min(example_parsed_out['image/object/bbox/ymax'], 1)\n",
    "            x = image.reshape((1, 1280, 720, 3)) / 255.\n",
    "            sess.run(train_step, feed_dict={images: x, train_mode: False, target_prob: [1], target_bb: [[xmin, ymin, xmax - xmin, ymax - ymin]]})\n",
    "        except:\n",
    "            print('The image ' + str(i + 1) + ' of the training set could not be loaded.')\n",
    "        if (i + 1) % 100 == 0:\n",
    "            net_loss = np.zeros(10)\n",
    "            for j in range(10):\n",
    "                try:\n",
    "                    next_example_val = sess.run(next_element_val)\n",
    "                    example_parsed = tf.parse_single_example(next_example_val, features=feature)\n",
    "                    example_parsed_out = sess.run(example_parsed)\n",
    "                    image = sess.run(tf.image.decode_jpeg(example_parsed_out['image/encoded']))\n",
    "                    xmin = max(example_parsed_out['image/object/bbox/xmin'], 0)\n",
    "                    xmax = min(example_parsed_out['image/object/bbox/xmax'], 1)\n",
    "                    ymin = max(example_parsed_out['image/object/bbox/ymin'], 0)\n",
    "                    ymax = min(example_parsed_out['image/object/bbox/ymax'], 1)\n",
    "                    x = image.reshape((1, 1280, 720, 3)) / 255.\n",
    "                    net_loss[j] = sess.run(bb_net.loss, feed_dict={images: x, train_mode: False, target_prob: [1], target_bb: [[xmin, ymin, np.log(xmax - xmin), np.log(ymax - ymin)]]})\n",
    "                except:\n",
    "                    print('The image ' + str(i // 100 + j + 1) + ' of the validation set could not be loaded.')\n",
    "            print('loss after ' + str(i + 1) + ' iterations = ' + str(np.mean(net_loss)))"
   ]
  },
  {
   "cell_type": "code",
   "execution_count": null,
   "metadata": {},
   "outputs": [],
   "source": []
  },
  {
   "cell_type": "code",
   "execution_count": null,
   "metadata": {
    "collapsed": true
   },
   "outputs": [],
   "source": []
  }
 ],
 "metadata": {
  "kernelspec": {
   "display_name": "tensorflow",
   "language": "python",
   "name": "tensorflow"
  },
  "language_info": {
   "codemirror_mode": {
    "name": "ipython",
    "version": 2
   },
   "file_extension": ".py",
   "mimetype": "text/x-python",
   "name": "python",
   "nbconvert_exporter": "python",
   "pygments_lexer": "ipython2",
   "version": "2.7.12"
  }
 },
 "nbformat": 4,
 "nbformat_minor": 2
}
